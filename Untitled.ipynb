{
 "cells": [
  {
   "cell_type": "code",
   "execution_count": 1,
   "id": "c9acf307-034a-4799-b8d3-377f516dc796",
   "metadata": {},
   "outputs": [
    {
     "name": "stdout",
     "output_type": "stream",
     "text": [
      "New https://pypi.org/project/ultralytics/8.3.75 available  Update with 'pip install -U ultralytics'\n",
      "Ultralytics 8.3.74  Python-3.13.1 torch-2.6.0+cu118 CPU (Intel Core(TM) i7-8665U 1.90GHz)\n",
      "\u001b[34m\u001b[1mengine\\trainer: \u001b[0mtask=detect, mode=train, model=yolo11n.pt, data=C:\\yolo11\\data.yaml, epochs=5, time=None, patience=100, batch=16, imgsz=640, save=True, save_period=-1, cache=False, device=cpu, workers=8, project=None, name=train2, exist_ok=False, pretrained=True, optimizer=auto, verbose=True, seed=0, deterministic=True, single_cls=False, rect=False, cos_lr=False, close_mosaic=10, resume=False, amp=True, fraction=1.0, profile=False, freeze=None, multi_scale=False, overlap_mask=True, mask_ratio=4, dropout=0.0, val=True, split=val, save_json=False, save_hybrid=False, conf=None, iou=0.7, max_det=300, half=False, dnn=False, plots=True, source=None, vid_stride=1, stream_buffer=False, visualize=False, augment=False, agnostic_nms=False, classes=None, retina_masks=False, embed=None, show=False, save_frames=False, save_txt=False, save_conf=False, save_crop=False, show_labels=True, show_conf=True, show_boxes=True, line_width=None, format=torchscript, keras=False, optimize=False, int8=False, dynamic=False, simplify=True, opset=None, workspace=None, nms=False, lr0=0.01, lrf=0.01, momentum=0.937, weight_decay=0.0005, warmup_epochs=3.0, warmup_momentum=0.8, warmup_bias_lr=0.1, box=7.5, cls=0.5, dfl=1.5, pose=12.0, kobj=1.0, nbs=64, hsv_h=0.015, hsv_s=0.7, hsv_v=0.4, degrees=0.0, translate=0.1, scale=0.5, shear=0.0, perspective=0.0, flipud=0.0, fliplr=0.5, bgr=0.0, mosaic=1.0, mixup=0.0, copy_paste=0.0, copy_paste_mode=flip, auto_augment=randaugment, erasing=0.4, crop_fraction=1.0, cfg=None, tracker=botsort.yaml, save_dir=runs\\detect\\train2\n",
      "Overriding model.yaml nc=80 with nc=1\n",
      "\n",
      "                   from  n    params  module                                       arguments                     \n",
      "  0                  -1  1       464  ultralytics.nn.modules.conv.Conv             [3, 16, 3, 2]                 \n",
      "  1                  -1  1      4672  ultralytics.nn.modules.conv.Conv             [16, 32, 3, 2]                \n",
      "  2                  -1  1      6640  ultralytics.nn.modules.block.C3k2            [32, 64, 1, False, 0.25]      \n",
      "  3                  -1  1     36992  ultralytics.nn.modules.conv.Conv             [64, 64, 3, 2]                \n",
      "  4                  -1  1     26080  ultralytics.nn.modules.block.C3k2            [64, 128, 1, False, 0.25]     \n",
      "  5                  -1  1    147712  ultralytics.nn.modules.conv.Conv             [128, 128, 3, 2]              \n",
      "  6                  -1  1     87040  ultralytics.nn.modules.block.C3k2            [128, 128, 1, True]           \n",
      "  7                  -1  1    295424  ultralytics.nn.modules.conv.Conv             [128, 256, 3, 2]              \n",
      "  8                  -1  1    346112  ultralytics.nn.modules.block.C3k2            [256, 256, 1, True]           \n",
      "  9                  -1  1    164608  ultralytics.nn.modules.block.SPPF            [256, 256, 5]                 \n",
      " 10                  -1  1    249728  ultralytics.nn.modules.block.C2PSA           [256, 256, 1]                 \n",
      " 11                  -1  1         0  torch.nn.modules.upsampling.Upsample         [None, 2, 'nearest']          \n",
      " 12             [-1, 6]  1         0  ultralytics.nn.modules.conv.Concat           [1]                           \n",
      " 13                  -1  1    111296  ultralytics.nn.modules.block.C3k2            [384, 128, 1, False]          \n",
      " 14                  -1  1         0  torch.nn.modules.upsampling.Upsample         [None, 2, 'nearest']          \n",
      " 15             [-1, 4]  1         0  ultralytics.nn.modules.conv.Concat           [1]                           \n",
      " 16                  -1  1     32096  ultralytics.nn.modules.block.C3k2            [256, 64, 1, False]           \n",
      " 17                  -1  1     36992  ultralytics.nn.modules.conv.Conv             [64, 64, 3, 2]                \n",
      " 18            [-1, 13]  1         0  ultralytics.nn.modules.conv.Concat           [1]                           \n",
      " 19                  -1  1     86720  ultralytics.nn.modules.block.C3k2            [192, 128, 1, False]          \n",
      " 20                  -1  1    147712  ultralytics.nn.modules.conv.Conv             [128, 128, 3, 2]              \n",
      " 21            [-1, 10]  1         0  ultralytics.nn.modules.conv.Concat           [1]                           \n",
      " 22                  -1  1    378880  ultralytics.nn.modules.block.C3k2            [384, 256, 1, True]           \n",
      " 23        [16, 19, 22]  1    430867  ultralytics.nn.modules.head.Detect           [1, [64, 128, 256]]           \n",
      "YOLO11n summary: 319 layers, 2,590,035 parameters, 2,590,019 gradients, 6.4 GFLOPs\n",
      "\n",
      "Transferred 448/499 items from pretrained weights\n",
      "Freezing layer 'model.23.dfl.conv.weight'\n"
     ]
    },
    {
     "name": "stderr",
     "output_type": "stream",
     "text": [
      "\u001b[34m\u001b[1mtrain: \u001b[0mScanning C:\\yolo11\\train\\labels.cache... 335 images, 0 backgrounds, 0 corrupt: 100%|██████████| 335/335 [00:00<?, ?it/s]\u001b[0m\n",
      "\u001b[34m\u001b[1mval: \u001b[0mScanning C:\\yolo11\\valid\\labels.cache... 89 images, 0 backgrounds, 0 corrupt: 100%|██████████| 89/89 [00:00<?, ?it/s]\u001b[0m\n"
     ]
    },
    {
     "name": "stdout",
     "output_type": "stream",
     "text": [
      "Plotting labels to runs\\detect\\train2\\labels.jpg... \n",
      "\u001b[34m\u001b[1moptimizer:\u001b[0m 'optimizer=auto' found, ignoring 'lr0=0.01' and 'momentum=0.937' and determining best 'optimizer', 'lr0' and 'momentum' automatically... \n",
      "\u001b[34m\u001b[1moptimizer:\u001b[0m AdamW(lr=0.002, momentum=0.9) with parameter groups 81 weight(decay=0.0), 88 weight(decay=0.0005), 87 bias(decay=0.0)\n",
      "Image sizes 640 train, 640 val\n",
      "Using 0 dataloader workers\n",
      "Logging results to \u001b[1mruns\\detect\\train2\u001b[0m\n",
      "Starting training for 5 epochs...\n",
      "\n",
      "      Epoch    GPU_mem   box_loss   cls_loss   dfl_loss  Instances       Size\n"
     ]
    },
    {
     "name": "stderr",
     "output_type": "stream",
     "text": [
      "        1/5         0G      1.927      2.797      1.253        407        640: 100%|██████████| 21/21 [02:55<00:00,  8.34s/it]\n",
      "                 Class     Images  Instances      Box(P          R      mAP50  mAP50-95): 100%|██████████| 3/3 [00:23<00:00,  7.74s/it]"
     ]
    },
    {
     "name": "stdout",
     "output_type": "stream",
     "text": [
      "                   all         89        969      0.016       0.44      0.163     0.0617\n"
     ]
    },
    {
     "name": "stderr",
     "output_type": "stream",
     "text": [
      "\n"
     ]
    },
    {
     "name": "stdout",
     "output_type": "stream",
     "text": [
      "\n",
      "      Epoch    GPU_mem   box_loss   cls_loss   dfl_loss  Instances       Size\n"
     ]
    },
    {
     "name": "stderr",
     "output_type": "stream",
     "text": [
      "        2/5         0G       1.95      1.721      1.236        355        640: 100%|██████████| 21/21 [02:50<00:00,  8.13s/it]\n",
      "                 Class     Images  Instances      Box(P          R      mAP50  mAP50-95): 100%|██████████| 3/3 [00:22<00:00,  7.46s/it]"
     ]
    },
    {
     "name": "stdout",
     "output_type": "stream",
     "text": [
      "                   all         89        969      0.024       0.66      0.154     0.0608\n"
     ]
    },
    {
     "name": "stderr",
     "output_type": "stream",
     "text": [
      "\n"
     ]
    },
    {
     "name": "stdout",
     "output_type": "stream",
     "text": [
      "\n",
      "      Epoch    GPU_mem   box_loss   cls_loss   dfl_loss  Instances       Size\n"
     ]
    },
    {
     "name": "stderr",
     "output_type": "stream",
     "text": [
      "        3/5         0G       1.87      1.546       1.24        414        640: 100%|██████████| 21/21 [02:52<00:00,  8.23s/it]\n",
      "                 Class     Images  Instances      Box(P          R      mAP50  mAP50-95): 100%|██████████| 3/3 [00:23<00:00,  7.75s/it]"
     ]
    },
    {
     "name": "stdout",
     "output_type": "stream",
     "text": [
      "                   all         89        969      0.206        0.1     0.0964      0.039\n"
     ]
    },
    {
     "name": "stderr",
     "output_type": "stream",
     "text": [
      "\n"
     ]
    },
    {
     "name": "stdout",
     "output_type": "stream",
     "text": [
      "\n",
      "      Epoch    GPU_mem   box_loss   cls_loss   dfl_loss  Instances       Size\n"
     ]
    },
    {
     "name": "stderr",
     "output_type": "stream",
     "text": [
      "        4/5         0G       1.83      1.463      1.229        276        640: 100%|██████████| 21/21 [02:52<00:00,  8.23s/it]\n",
      "                 Class     Images  Instances      Box(P          R      mAP50  mAP50-95): 100%|██████████| 3/3 [00:23<00:00,  7.89s/it]"
     ]
    },
    {
     "name": "stdout",
     "output_type": "stream",
     "text": [
      "                   all         89        969      0.494      0.272      0.324      0.143\n"
     ]
    },
    {
     "name": "stderr",
     "output_type": "stream",
     "text": [
      "\n"
     ]
    },
    {
     "name": "stdout",
     "output_type": "stream",
     "text": [
      "\n",
      "      Epoch    GPU_mem   box_loss   cls_loss   dfl_loss  Instances       Size\n"
     ]
    },
    {
     "name": "stderr",
     "output_type": "stream",
     "text": [
      "        5/5         0G      1.794      1.388      1.222        454        640: 100%|██████████| 21/21 [02:52<00:00,  8.23s/it]\n",
      "                 Class     Images  Instances      Box(P          R      mAP50  mAP50-95): 100%|██████████| 3/3 [00:22<00:00,  7.66s/it]"
     ]
    },
    {
     "name": "stdout",
     "output_type": "stream",
     "text": [
      "                   all         89        969      0.551      0.475      0.475       0.21\n"
     ]
    },
    {
     "name": "stderr",
     "output_type": "stream",
     "text": [
      "\n"
     ]
    },
    {
     "name": "stdout",
     "output_type": "stream",
     "text": [
      "\n",
      "5 epochs completed in 0.273 hours.\n",
      "Optimizer stripped from runs\\detect\\train2\\weights\\last.pt, 5.5MB\n",
      "Optimizer stripped from runs\\detect\\train2\\weights\\best.pt, 5.5MB\n",
      "\n",
      "Validating runs\\detect\\train2\\weights\\best.pt...\n",
      "Ultralytics 8.3.74  Python-3.13.1 torch-2.6.0+cu118 CPU (Intel Core(TM) i7-8665U 1.90GHz)\n",
      "YOLO11n summary (fused): 238 layers, 2,582,347 parameters, 0 gradients, 6.3 GFLOPs\n"
     ]
    },
    {
     "name": "stderr",
     "output_type": "stream",
     "text": [
      "                 Class     Images  Instances      Box(P          R      mAP50  mAP50-95): 100%|██████████| 3/3 [00:14<00:00,  4.98s/it]\n"
     ]
    },
    {
     "name": "stdout",
     "output_type": "stream",
     "text": [
      "                   all         89        969      0.549      0.474      0.474       0.21\n",
      "Speed: 2.1ms preprocess, 115.1ms inference, 0.0ms loss, 36.5ms postprocess per image\n",
      "Results saved to \u001b[1mruns\\detect\\train2\u001b[0m\n"
     ]
    }
   ],
   "source": [
    "from ultralytics import YOLO\n",
    "model = YOLO(\"yolo11n.pt\")\n",
    "train_results = model.train(\n",
    "    data=\"C:\\\\yolo11\\\\data.yaml\",  \n",
    "    epochs=5,\n",
    "    imgsz=640,\n",
    "    device=\"cpu\",\n",
    ")\n"
   ]
  },
  {
   "cell_type": "code",
   "execution_count": 9,
   "id": "d630ce0e-bf14-492d-80d9-b6c60a2b1614",
   "metadata": {},
   "outputs": [
    {
     "name": "stdout",
     "output_type": "stream",
     "text": [
      "\n",
      "image 1/1 C:\\yolo11\\train\\images\\istockphoto-1219835630-2048x2048_jpg.rf.5a52da849ecac1761474c6e4751fe163.jpg: 640x640 4 Humans, 161.6ms\n",
      "Speed: 7.1ms preprocess, 161.6ms inference, 3.9ms postprocess per image at shape (1, 3, 640, 640)\n",
      "Results saved to \u001b[1mruns\\detect\\predict6\u001b[0m\n"
     ]
    }
   ],
   "source": [
    "from ultralytics import YOLO\n",
    "model = YOLO(\"C:\\\\yolo11\\\\runs\\\\detect\\\\train2\\\\weights\\\\best.pt\")\n",
    "results = model(\"C:\\\\yolo11\\\\train\\\\images\\\\istockphoto-1219835630-2048x2048_jpg.rf.5a52da849ecac1761474c6e4751fe163.jpg\", save = True)\n"
   ]
  },
  {
   "cell_type": "code",
   "execution_count": 11,
   "id": "a4e02c51-a5a9-4650-b9bc-db724957356e",
   "metadata": {},
   "outputs": [
    {
     "name": "stdout",
     "output_type": "stream",
     "text": [
      "\n",
      "\n",
      "WARNING  inference results will accumulate in RAM unless `stream=True` is passed, causing potential out-of-memory\n",
      "errors for large sources or long-running streams and videos. See https://docs.ultralytics.com/modes/predict/ for help.\n",
      "\n",
      "Example:\n",
      "    results = model(source=..., stream=True)  # generator of Results objects\n",
      "    for r in results:\n",
      "        boxes = r.boxes  # Boxes object for bbox outputs\n",
      "        masks = r.masks  # Masks object for segment masks outputs\n",
      "        probs = r.probs  # Class probabilities for classification outputs\n",
      "\n",
      "video 1/1 (frame 1/177) C:\\Users\\arjun\\Downloads\\sample.mp4: 640x384 1 Human, 169.2ms\n",
      "video 1/1 (frame 2/177) C:\\Users\\arjun\\Downloads\\sample.mp4: 640x384 1 Human, 114.6ms\n",
      "video 1/1 (frame 3/177) C:\\Users\\arjun\\Downloads\\sample.mp4: 640x384 1 Human, 120.8ms\n",
      "video 1/1 (frame 4/177) C:\\Users\\arjun\\Downloads\\sample.mp4: 640x384 1 Human, 115.6ms\n",
      "video 1/1 (frame 5/177) C:\\Users\\arjun\\Downloads\\sample.mp4: 640x384 1 Human, 107.3ms\n",
      "video 1/1 (frame 6/177) C:\\Users\\arjun\\Downloads\\sample.mp4: 640x384 1 Human, 114.7ms\n",
      "video 1/1 (frame 7/177) C:\\Users\\arjun\\Downloads\\sample.mp4: 640x384 1 Human, 124.3ms\n",
      "video 1/1 (frame 8/177) C:\\Users\\arjun\\Downloads\\sample.mp4: 640x384 1 Human, 114.0ms\n",
      "video 1/1 (frame 9/177) C:\\Users\\arjun\\Downloads\\sample.mp4: 640x384 1 Human, 109.7ms\n",
      "video 1/1 (frame 10/177) C:\\Users\\arjun\\Downloads\\sample.mp4: 640x384 1 Human, 106.6ms\n",
      "video 1/1 (frame 11/177) C:\\Users\\arjun\\Downloads\\sample.mp4: 640x384 1 Human, 106.0ms\n",
      "video 1/1 (frame 12/177) C:\\Users\\arjun\\Downloads\\sample.mp4: 640x384 1 Human, 106.2ms\n",
      "video 1/1 (frame 13/177) C:\\Users\\arjun\\Downloads\\sample.mp4: 640x384 1 Human, 109.6ms\n",
      "video 1/1 (frame 14/177) C:\\Users\\arjun\\Downloads\\sample.mp4: 640x384 1 Human, 112.7ms\n",
      "video 1/1 (frame 15/177) C:\\Users\\arjun\\Downloads\\sample.mp4: 640x384 1 Human, 111.3ms\n",
      "video 1/1 (frame 16/177) C:\\Users\\arjun\\Downloads\\sample.mp4: 640x384 1 Human, 122.1ms\n",
      "video 1/1 (frame 17/177) C:\\Users\\arjun\\Downloads\\sample.mp4: 640x384 1 Human, 125.3ms\n",
      "video 1/1 (frame 18/177) C:\\Users\\arjun\\Downloads\\sample.mp4: 640x384 1 Human, 195.5ms\n",
      "video 1/1 (frame 19/177) C:\\Users\\arjun\\Downloads\\sample.mp4: 640x384 1 Human, 121.6ms\n",
      "video 1/1 (frame 20/177) C:\\Users\\arjun\\Downloads\\sample.mp4: 640x384 1 Human, 113.8ms\n",
      "video 1/1 (frame 21/177) C:\\Users\\arjun\\Downloads\\sample.mp4: 640x384 1 Human, 113.3ms\n",
      "video 1/1 (frame 22/177) C:\\Users\\arjun\\Downloads\\sample.mp4: 640x384 1 Human, 121.2ms\n",
      "video 1/1 (frame 23/177) C:\\Users\\arjun\\Downloads\\sample.mp4: 640x384 1 Human, 123.9ms\n",
      "video 1/1 (frame 24/177) C:\\Users\\arjun\\Downloads\\sample.mp4: 640x384 1 Human, 121.7ms\n",
      "video 1/1 (frame 25/177) C:\\Users\\arjun\\Downloads\\sample.mp4: 640x384 1 Human, 111.9ms\n",
      "video 1/1 (frame 26/177) C:\\Users\\arjun\\Downloads\\sample.mp4: 640x384 1 Human, 109.5ms\n",
      "video 1/1 (frame 27/177) C:\\Users\\arjun\\Downloads\\sample.mp4: 640x384 1 Human, 106.8ms\n",
      "video 1/1 (frame 28/177) C:\\Users\\arjun\\Downloads\\sample.mp4: 640x384 1 Human, 106.8ms\n",
      "video 1/1 (frame 29/177) C:\\Users\\arjun\\Downloads\\sample.mp4: 640x384 1 Human, 110.6ms\n",
      "video 1/1 (frame 30/177) C:\\Users\\arjun\\Downloads\\sample.mp4: 640x384 1 Human, 110.5ms\n",
      "video 1/1 (frame 31/177) C:\\Users\\arjun\\Downloads\\sample.mp4: 640x384 1 Human, 124.3ms\n",
      "video 1/1 (frame 32/177) C:\\Users\\arjun\\Downloads\\sample.mp4: 640x384 1 Human, 124.3ms\n",
      "video 1/1 (frame 33/177) C:\\Users\\arjun\\Downloads\\sample.mp4: 640x384 1 Human, 120.2ms\n",
      "video 1/1 (frame 34/177) C:\\Users\\arjun\\Downloads\\sample.mp4: 640x384 1 Human, 110.1ms\n",
      "video 1/1 (frame 35/177) C:\\Users\\arjun\\Downloads\\sample.mp4: 640x384 1 Human, 102.3ms\n",
      "video 1/1 (frame 36/177) C:\\Users\\arjun\\Downloads\\sample.mp4: 640x384 1 Human, 104.7ms\n",
      "video 1/1 (frame 37/177) C:\\Users\\arjun\\Downloads\\sample.mp4: 640x384 1 Human, 110.4ms\n",
      "video 1/1 (frame 38/177) C:\\Users\\arjun\\Downloads\\sample.mp4: 640x384 1 Human, 130.4ms\n",
      "video 1/1 (frame 39/177) C:\\Users\\arjun\\Downloads\\sample.mp4: 640x384 1 Human, 123.4ms\n",
      "video 1/1 (frame 40/177) C:\\Users\\arjun\\Downloads\\sample.mp4: 640x384 1 Human, 113.6ms\n",
      "video 1/1 (frame 41/177) C:\\Users\\arjun\\Downloads\\sample.mp4: 640x384 1 Human, 110.5ms\n",
      "video 1/1 (frame 42/177) C:\\Users\\arjun\\Downloads\\sample.mp4: 640x384 1 Human, 110.8ms\n",
      "video 1/1 (frame 43/177) C:\\Users\\arjun\\Downloads\\sample.mp4: 640x384 1 Human, 120.5ms\n",
      "video 1/1 (frame 44/177) C:\\Users\\arjun\\Downloads\\sample.mp4: 640x384 1 Human, 120.5ms\n",
      "video 1/1 (frame 45/177) C:\\Users\\arjun\\Downloads\\sample.mp4: 640x384 1 Human, 131.2ms\n",
      "video 1/1 (frame 46/177) C:\\Users\\arjun\\Downloads\\sample.mp4: 640x384 1 Human, 114.0ms\n",
      "video 1/1 (frame 47/177) C:\\Users\\arjun\\Downloads\\sample.mp4: 640x384 1 Human, 109.3ms\n",
      "video 1/1 (frame 48/177) C:\\Users\\arjun\\Downloads\\sample.mp4: 640x384 1 Human, 120.9ms\n",
      "video 1/1 (frame 49/177) C:\\Users\\arjun\\Downloads\\sample.mp4: 640x384 1 Human, 126.6ms\n",
      "video 1/1 (frame 50/177) C:\\Users\\arjun\\Downloads\\sample.mp4: 640x384 1 Human, 124.2ms\n",
      "video 1/1 (frame 51/177) C:\\Users\\arjun\\Downloads\\sample.mp4: 640x384 1 Human, 107.1ms\n",
      "video 1/1 (frame 52/177) C:\\Users\\arjun\\Downloads\\sample.mp4: 640x384 1 Human, 110.6ms\n",
      "video 1/1 (frame 53/177) C:\\Users\\arjun\\Downloads\\sample.mp4: 640x384 1 Human, 114.9ms\n",
      "video 1/1 (frame 54/177) C:\\Users\\arjun\\Downloads\\sample.mp4: 640x384 1 Human, 124.2ms\n",
      "video 1/1 (frame 55/177) C:\\Users\\arjun\\Downloads\\sample.mp4: 640x384 1 Human, 117.1ms\n",
      "video 1/1 (frame 56/177) C:\\Users\\arjun\\Downloads\\sample.mp4: 640x384 1 Human, 113.0ms\n",
      "video 1/1 (frame 57/177) C:\\Users\\arjun\\Downloads\\sample.mp4: 640x384 1 Human, 108.6ms\n",
      "video 1/1 (frame 58/177) C:\\Users\\arjun\\Downloads\\sample.mp4: 640x384 1 Human, 116.3ms\n",
      "video 1/1 (frame 59/177) C:\\Users\\arjun\\Downloads\\sample.mp4: 640x384 1 Human, 127.0ms\n",
      "video 1/1 (frame 60/177) C:\\Users\\arjun\\Downloads\\sample.mp4: 640x384 1 Human, 123.1ms\n",
      "video 1/1 (frame 61/177) C:\\Users\\arjun\\Downloads\\sample.mp4: 640x384 1 Human, 116.7ms\n",
      "video 1/1 (frame 62/177) C:\\Users\\arjun\\Downloads\\sample.mp4: 640x384 1 Human, 107.7ms\n",
      "video 1/1 (frame 63/177) C:\\Users\\arjun\\Downloads\\sample.mp4: 640x384 1 Human, 125.9ms\n",
      "video 1/1 (frame 64/177) C:\\Users\\arjun\\Downloads\\sample.mp4: 640x384 1 Human, 118.2ms\n",
      "video 1/1 (frame 65/177) C:\\Users\\arjun\\Downloads\\sample.mp4: 640x384 1 Human, 114.1ms\n",
      "video 1/1 (frame 66/177) C:\\Users\\arjun\\Downloads\\sample.mp4: 640x384 1 Human, 108.0ms\n",
      "video 1/1 (frame 67/177) C:\\Users\\arjun\\Downloads\\sample.mp4: 640x384 1 Human, 115.0ms\n",
      "video 1/1 (frame 68/177) C:\\Users\\arjun\\Downloads\\sample.mp4: 640x384 1 Human, 124.6ms\n",
      "video 1/1 (frame 69/177) C:\\Users\\arjun\\Downloads\\sample.mp4: 640x384 1 Human, 114.6ms\n",
      "video 1/1 (frame 70/177) C:\\Users\\arjun\\Downloads\\sample.mp4: 640x384 1 Human, 113.5ms\n",
      "video 1/1 (frame 71/177) C:\\Users\\arjun\\Downloads\\sample.mp4: 640x384 1 Human, 108.1ms\n",
      "video 1/1 (frame 72/177) C:\\Users\\arjun\\Downloads\\sample.mp4: 640x384 1 Human, 125.3ms\n",
      "video 1/1 (frame 73/177) C:\\Users\\arjun\\Downloads\\sample.mp4: 640x384 1 Human, 123.8ms\n",
      "video 1/1 (frame 74/177) C:\\Users\\arjun\\Downloads\\sample.mp4: 640x384 1 Human, 109.2ms\n",
      "video 1/1 (frame 75/177) C:\\Users\\arjun\\Downloads\\sample.mp4: 640x384 1 Human, 104.3ms\n",
      "video 1/1 (frame 76/177) C:\\Users\\arjun\\Downloads\\sample.mp4: 640x384 1 Human, 111.5ms\n",
      "video 1/1 (frame 77/177) C:\\Users\\arjun\\Downloads\\sample.mp4: 640x384 1 Human, 115.4ms\n",
      "video 1/1 (frame 78/177) C:\\Users\\arjun\\Downloads\\sample.mp4: 640x384 1 Human, 106.1ms\n",
      "video 1/1 (frame 79/177) C:\\Users\\arjun\\Downloads\\sample.mp4: 640x384 1 Human, 115.8ms\n",
      "video 1/1 (frame 80/177) C:\\Users\\arjun\\Downloads\\sample.mp4: 640x384 1 Human, 147.3ms\n",
      "video 1/1 (frame 81/177) C:\\Users\\arjun\\Downloads\\sample.mp4: 640x384 1 Human, 113.4ms\n",
      "video 1/1 (frame 82/177) C:\\Users\\arjun\\Downloads\\sample.mp4: 640x384 1 Human, 110.5ms\n",
      "video 1/1 (frame 83/177) C:\\Users\\arjun\\Downloads\\sample.mp4: 640x384 1 Human, 116.0ms\n",
      "video 1/1 (frame 84/177) C:\\Users\\arjun\\Downloads\\sample.mp4: 640x384 1 Human, 110.2ms\n",
      "video 1/1 (frame 85/177) C:\\Users\\arjun\\Downloads\\sample.mp4: 640x384 1 Human, 105.5ms\n",
      "video 1/1 (frame 86/177) C:\\Users\\arjun\\Downloads\\sample.mp4: 640x384 1 Human, 109.4ms\n",
      "video 1/1 (frame 87/177) C:\\Users\\arjun\\Downloads\\sample.mp4: 640x384 1 Human, 108.0ms\n",
      "video 1/1 (frame 88/177) C:\\Users\\arjun\\Downloads\\sample.mp4: 640x384 1 Human, 111.0ms\n",
      "video 1/1 (frame 89/177) C:\\Users\\arjun\\Downloads\\sample.mp4: 640x384 1 Human, 114.0ms\n",
      "video 1/1 (frame 90/177) C:\\Users\\arjun\\Downloads\\sample.mp4: 640x384 1 Human, 117.0ms\n",
      "video 1/1 (frame 91/177) C:\\Users\\arjun\\Downloads\\sample.mp4: 640x384 1 Human, 121.3ms\n",
      "video 1/1 (frame 92/177) C:\\Users\\arjun\\Downloads\\sample.mp4: 640x384 1 Human, 117.0ms\n",
      "video 1/1 (frame 93/177) C:\\Users\\arjun\\Downloads\\sample.mp4: 640x384 1 Human, 116.2ms\n",
      "video 1/1 (frame 94/177) C:\\Users\\arjun\\Downloads\\sample.mp4: 640x384 1 Human, 111.4ms\n",
      "video 1/1 (frame 95/177) C:\\Users\\arjun\\Downloads\\sample.mp4: 640x384 1 Human, 112.7ms\n",
      "video 1/1 (frame 96/177) C:\\Users\\arjun\\Downloads\\sample.mp4: 640x384 1 Human, 125.5ms\n",
      "video 1/1 (frame 97/177) C:\\Users\\arjun\\Downloads\\sample.mp4: 640x384 1 Human, 114.4ms\n",
      "video 1/1 (frame 98/177) C:\\Users\\arjun\\Downloads\\sample.mp4: 640x384 1 Human, 118.0ms\n",
      "video 1/1 (frame 99/177) C:\\Users\\arjun\\Downloads\\sample.mp4: 640x384 1 Human, 117.1ms\n",
      "video 1/1 (frame 100/177) C:\\Users\\arjun\\Downloads\\sample.mp4: 640x384 1 Human, 191.1ms\n",
      "video 1/1 (frame 101/177) C:\\Users\\arjun\\Downloads\\sample.mp4: 640x384 1 Human, 106.6ms\n",
      "video 1/1 (frame 102/177) C:\\Users\\arjun\\Downloads\\sample.mp4: 640x384 1 Human, 107.4ms\n",
      "video 1/1 (frame 103/177) C:\\Users\\arjun\\Downloads\\sample.mp4: 640x384 1 Human, 121.2ms\n",
      "video 1/1 (frame 104/177) C:\\Users\\arjun\\Downloads\\sample.mp4: 640x384 1 Human, 120.6ms\n",
      "video 1/1 (frame 105/177) C:\\Users\\arjun\\Downloads\\sample.mp4: 640x384 1 Human, 109.9ms\n",
      "video 1/1 (frame 106/177) C:\\Users\\arjun\\Downloads\\sample.mp4: 640x384 1 Human, 111.1ms\n",
      "video 1/1 (frame 107/177) C:\\Users\\arjun\\Downloads\\sample.mp4: 640x384 1 Human, 119.4ms\n",
      "video 1/1 (frame 108/177) C:\\Users\\arjun\\Downloads\\sample.mp4: 640x384 1 Human, 118.4ms\n",
      "video 1/1 (frame 109/177) C:\\Users\\arjun\\Downloads\\sample.mp4: 640x384 1 Human, 113.8ms\n",
      "video 1/1 (frame 110/177) C:\\Users\\arjun\\Downloads\\sample.mp4: 640x384 1 Human, 109.4ms\n",
      "video 1/1 (frame 111/177) C:\\Users\\arjun\\Downloads\\sample.mp4: 640x384 1 Human, 123.7ms\n",
      "video 1/1 (frame 112/177) C:\\Users\\arjun\\Downloads\\sample.mp4: 640x384 1 Human, 133.9ms\n",
      "video 1/1 (frame 113/177) C:\\Users\\arjun\\Downloads\\sample.mp4: 640x384 1 Human, 127.1ms\n",
      "video 1/1 (frame 114/177) C:\\Users\\arjun\\Downloads\\sample.mp4: 640x384 1 Human, 129.0ms\n",
      "video 1/1 (frame 115/177) C:\\Users\\arjun\\Downloads\\sample.mp4: 640x384 1 Human, 120.8ms\n",
      "video 1/1 (frame 116/177) C:\\Users\\arjun\\Downloads\\sample.mp4: 640x384 1 Human, 107.1ms\n",
      "video 1/1 (frame 117/177) C:\\Users\\arjun\\Downloads\\sample.mp4: 640x384 1 Human, 111.3ms\n",
      "video 1/1 (frame 118/177) C:\\Users\\arjun\\Downloads\\sample.mp4: 640x384 1 Human, 127.9ms\n",
      "video 1/1 (frame 119/177) C:\\Users\\arjun\\Downloads\\sample.mp4: 640x384 1 Human, 122.6ms\n",
      "video 1/1 (frame 120/177) C:\\Users\\arjun\\Downloads\\sample.mp4: 640x384 1 Human, 122.1ms\n",
      "video 1/1 (frame 121/177) C:\\Users\\arjun\\Downloads\\sample.mp4: 640x384 1 Human, 123.4ms\n",
      "video 1/1 (frame 122/177) C:\\Users\\arjun\\Downloads\\sample.mp4: 640x384 1 Human, 120.2ms\n",
      "video 1/1 (frame 123/177) C:\\Users\\arjun\\Downloads\\sample.mp4: 640x384 1 Human, 121.5ms\n",
      "video 1/1 (frame 124/177) C:\\Users\\arjun\\Downloads\\sample.mp4: 640x384 1 Human, 121.4ms\n",
      "video 1/1 (frame 125/177) C:\\Users\\arjun\\Downloads\\sample.mp4: 640x384 1 Human, 116.2ms\n",
      "video 1/1 (frame 126/177) C:\\Users\\arjun\\Downloads\\sample.mp4: 640x384 1 Human, 126.8ms\n",
      "video 1/1 (frame 127/177) C:\\Users\\arjun\\Downloads\\sample.mp4: 640x384 1 Human, 113.5ms\n",
      "video 1/1 (frame 128/177) C:\\Users\\arjun\\Downloads\\sample.mp4: 640x384 1 Human, 107.1ms\n",
      "video 1/1 (frame 129/177) C:\\Users\\arjun\\Downloads\\sample.mp4: 640x384 1 Human, 110.0ms\n",
      "video 1/1 (frame 130/177) C:\\Users\\arjun\\Downloads\\sample.mp4: 640x384 1 Human, 107.9ms\n",
      "video 1/1 (frame 131/177) C:\\Users\\arjun\\Downloads\\sample.mp4: 640x384 1 Human, 121.7ms\n",
      "video 1/1 (frame 132/177) C:\\Users\\arjun\\Downloads\\sample.mp4: 640x384 1 Human, 125.5ms\n",
      "video 1/1 (frame 133/177) C:\\Users\\arjun\\Downloads\\sample.mp4: 640x384 1 Human, 112.5ms\n",
      "video 1/1 (frame 134/177) C:\\Users\\arjun\\Downloads\\sample.mp4: 640x384 1 Human, 109.6ms\n",
      "video 1/1 (frame 135/177) C:\\Users\\arjun\\Downloads\\sample.mp4: 640x384 1 Human, 108.0ms\n",
      "video 1/1 (frame 136/177) C:\\Users\\arjun\\Downloads\\sample.mp4: 640x384 1 Human, 111.5ms\n",
      "video 1/1 (frame 137/177) C:\\Users\\arjun\\Downloads\\sample.mp4: 640x384 1 Human, 106.6ms\n",
      "video 1/1 (frame 138/177) C:\\Users\\arjun\\Downloads\\sample.mp4: 640x384 1 Human, 104.5ms\n",
      "video 1/1 (frame 139/177) C:\\Users\\arjun\\Downloads\\sample.mp4: 640x384 1 Human, 106.2ms\n",
      "video 1/1 (frame 140/177) C:\\Users\\arjun\\Downloads\\sample.mp4: 640x384 1 Human, 123.7ms\n",
      "video 1/1 (frame 141/177) C:\\Users\\arjun\\Downloads\\sample.mp4: 640x384 1 Human, 133.3ms\n",
      "video 1/1 (frame 142/177) C:\\Users\\arjun\\Downloads\\sample.mp4: 640x384 1 Human, 128.4ms\n",
      "video 1/1 (frame 143/177) C:\\Users\\arjun\\Downloads\\sample.mp4: 640x384 1 Human, 130.0ms\n",
      "video 1/1 (frame 144/177) C:\\Users\\arjun\\Downloads\\sample.mp4: 640x384 1 Human, 109.6ms\n",
      "video 1/1 (frame 145/177) C:\\Users\\arjun\\Downloads\\sample.mp4: 640x384 1 Human, 111.3ms\n",
      "video 1/1 (frame 146/177) C:\\Users\\arjun\\Downloads\\sample.mp4: 640x384 1 Human, 112.2ms\n",
      "video 1/1 (frame 147/177) C:\\Users\\arjun\\Downloads\\sample.mp4: 640x384 1 Human, 133.9ms\n",
      "video 1/1 (frame 148/177) C:\\Users\\arjun\\Downloads\\sample.mp4: 640x384 1 Human, 112.3ms\n",
      "video 1/1 (frame 149/177) C:\\Users\\arjun\\Downloads\\sample.mp4: 640x384 1 Human, 106.9ms\n",
      "video 1/1 (frame 150/177) C:\\Users\\arjun\\Downloads\\sample.mp4: 640x384 1 Human, 108.1ms\n",
      "video 1/1 (frame 151/177) C:\\Users\\arjun\\Downloads\\sample.mp4: 640x384 1 Human, 105.4ms\n",
      "video 1/1 (frame 152/177) C:\\Users\\arjun\\Downloads\\sample.mp4: 640x384 1 Human, 108.8ms\n",
      "video 1/1 (frame 153/177) C:\\Users\\arjun\\Downloads\\sample.mp4: 640x384 1 Human, 111.1ms\n",
      "video 1/1 (frame 154/177) C:\\Users\\arjun\\Downloads\\sample.mp4: 640x384 (no detections), 111.0ms\n",
      "video 1/1 (frame 155/177) C:\\Users\\arjun\\Downloads\\sample.mp4: 640x384 1 Human, 119.8ms\n",
      "video 1/1 (frame 156/177) C:\\Users\\arjun\\Downloads\\sample.mp4: 640x384 1 Human, 114.1ms\n",
      "video 1/1 (frame 157/177) C:\\Users\\arjun\\Downloads\\sample.mp4: 640x384 1 Human, 113.5ms\n",
      "video 1/1 (frame 158/177) C:\\Users\\arjun\\Downloads\\sample.mp4: 640x384 1 Human, 175.2ms\n",
      "video 1/1 (frame 159/177) C:\\Users\\arjun\\Downloads\\sample.mp4: 640x384 1 Human, 112.5ms\n",
      "video 1/1 (frame 160/177) C:\\Users\\arjun\\Downloads\\sample.mp4: 640x384 1 Human, 111.9ms\n",
      "video 1/1 (frame 161/177) C:\\Users\\arjun\\Downloads\\sample.mp4: 640x384 1 Human, 111.9ms\n",
      "video 1/1 (frame 162/177) C:\\Users\\arjun\\Downloads\\sample.mp4: 640x384 1 Human, 106.2ms\n",
      "video 1/1 (frame 163/177) C:\\Users\\arjun\\Downloads\\sample.mp4: 640x384 1 Human, 106.5ms\n",
      "video 1/1 (frame 164/177) C:\\Users\\arjun\\Downloads\\sample.mp4: 640x384 1 Human, 108.0ms\n",
      "video 1/1 (frame 165/177) C:\\Users\\arjun\\Downloads\\sample.mp4: 640x384 1 Human, 107.0ms\n",
      "video 1/1 (frame 166/177) C:\\Users\\arjun\\Downloads\\sample.mp4: 640x384 1 Human, 118.0ms\n",
      "video 1/1 (frame 167/177) C:\\Users\\arjun\\Downloads\\sample.mp4: 640x384 2 Humans, 130.6ms\n",
      "video 1/1 (frame 168/177) C:\\Users\\arjun\\Downloads\\sample.mp4: 640x384 1 Human, 119.8ms\n",
      "video 1/1 (frame 169/177) C:\\Users\\arjun\\Downloads\\sample.mp4: 640x384 1 Human, 120.7ms\n",
      "video 1/1 (frame 170/177) C:\\Users\\arjun\\Downloads\\sample.mp4: 640x384 1 Human, 123.8ms\n",
      "video 1/1 (frame 171/177) C:\\Users\\arjun\\Downloads\\sample.mp4: 640x384 1 Human, 132.3ms\n",
      "video 1/1 (frame 172/177) C:\\Users\\arjun\\Downloads\\sample.mp4: 640x384 1 Human, 135.9ms\n",
      "video 1/1 (frame 173/177) C:\\Users\\arjun\\Downloads\\sample.mp4: 640x384 1 Human, 131.1ms\n",
      "video 1/1 (frame 174/177) C:\\Users\\arjun\\Downloads\\sample.mp4: 640x384 1 Human, 117.2ms\n",
      "video 1/1 (frame 175/177) C:\\Users\\arjun\\Downloads\\sample.mp4: 640x384 1 Human, 112.7ms\n",
      "video 1/1 (frame 176/177) C:\\Users\\arjun\\Downloads\\sample.mp4: 640x384 1 Human, 126.3ms\n",
      "video 1/1 (frame 177/177) C:\\Users\\arjun\\Downloads\\sample.mp4: 640x384 1 Human, 132.6ms\n",
      "Speed: 4.1ms preprocess, 117.7ms inference, 1.5ms postprocess per image at shape (1, 3, 640, 384)\n",
      "Results saved to \u001b[1mruns\\detect\\predict8\u001b[0m\n"
     ]
    }
   ],
   "source": [
    "from ultralytics import YOLO\n",
    "model = YOLO(\"C:\\\\yolo11\\\\runs\\\\detect\\\\train2\\\\weights\\\\best.pt\")\n",
    "results = model(\"C:\\\\Users\\\\arjun\\\\Downloads\\\\sample.mp4\", save = True)"
   ]
  },
  {
   "cell_type": "code",
   "execution_count": null,
   "id": "3fb18dfc-b974-49bd-89cf-00e0fc1aa514",
   "metadata": {},
   "outputs": [],
   "source": []
  }
 ],
 "metadata": {
  "kernelspec": {
   "display_name": "Python 3 (ipykernel)",
   "language": "python",
   "name": "python3"
  },
  "language_info": {
   "codemirror_mode": {
    "name": "ipython",
    "version": 3
   },
   "file_extension": ".py",
   "mimetype": "text/x-python",
   "name": "python",
   "nbconvert_exporter": "python",
   "pygments_lexer": "ipython3",
   "version": "3.13.1"
  }
 },
 "nbformat": 4,
 "nbformat_minor": 5
}
